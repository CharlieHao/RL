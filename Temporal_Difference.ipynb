{
 "cells": [
  {
   "cell_type": "markdown",
   "metadata": {},
   "source": [
    "# Model: GridWorld"
   ]
  },
  {
   "cell_type": "markdown",
   "metadata": {},
   "source": [
    "### use epsilon-greedy"
   ]
  },
  {
   "cell_type": "code",
   "execution_count": 1,
   "metadata": {
    "scrolled": true
   },
   "outputs": [
    {
     "name": "stdout",
     "output_type": "stream",
     "text": [
      "-------------------------\n",
      "|     |     |     | +1  |\n",
      "-------------------------\n",
      "|     |//// |     | -1  |\n",
      "-------------------------\n",
      "|start|     |     |     |\n",
      "-------------------------\n"
     ]
    }
   ],
   "source": [
    "print('-------------------------')\n",
    "print('|     |     |     | +1  |')\n",
    "print('-------------------------')\n",
    "print('|     |//// |     | -1  |')\n",
    "print('-------------------------')\n",
    "print('|start|     |     |     |')\n",
    "print('-------------------------')"
   ]
  },
  {
   "cell_type": "markdown",
   "metadata": {},
   "source": [
    "## Prepare"
   ]
  },
  {
   "cell_type": "code",
   "execution_count": 4,
   "metadata": {
    "collapsed": true
   },
   "outputs": [],
   "source": [
    "import numpy as np\n",
    "import matplotlib.pyplot as plt\n",
    "from __future__ import print_function\n",
    "from grid_world import standard_grid, negative_grid, print_values, print_policy"
   ]
  },
  {
   "cell_type": "code",
   "execution_count": 7,
   "metadata": {
    "collapsed": true
   },
   "outputs": [],
   "source": [
    "GAMMA = 0.9\n",
    "ALPHA = 0.1\n",
    "ALL_POSSIBLE_ACTIONS = ('U', 'D', 'L', 'R')"
   ]
  },
  {
   "cell_type": "markdown",
   "metadata": {},
   "source": [
    "#### epsilon_greedy"
   ]
  },
  {
   "cell_type": "code",
   "execution_count": 2,
   "metadata": {
    "collapsed": true
   },
   "outputs": [],
   "source": [
    "def random_action(a, eps=0.1):\n",
    "    # we'll use epsilon-soft to ensure all states are visited\n",
    "    # what happens if you don't do this? i.e. eps=0\n",
    "    p = np.random.random()\n",
    "    if p < (1 - eps):\n",
    "        return a\n",
    "    else:\n",
    "        return np.random.choice(ALL_POSSIBLE_ACTIONS)"
   ]
  },
  {
   "cell_type": "markdown",
   "metadata": {},
   "source": [
    "#### utility function"
   ]
  },
  {
   "cell_type": "code",
   "execution_count": 3,
   "metadata": {
    "collapsed": true
   },
   "outputs": [],
   "source": [
    "def max_dict(d):\n",
    "    # returns the argmax (key) and max (value) from a dictionary\n",
    "    # put this into a function since we are using it so often\n",
    "    max_key = None\n",
    "    max_val = float('-inf')\n",
    "    for k, v in d.iteritems():\n",
    "        if v > max_val:\n",
    "            max_val = v\n",
    "            max_key = k\n",
    "    return max_key, max_val"
   ]
  },
  {
   "cell_type": "markdown",
   "metadata": {},
   "source": [
    "## Case One: SARSA"
   ]
  },
  {
   "cell_type": "markdown",
   "metadata": {},
   "source": [
    "#### rewards"
   ]
  },
  {
   "cell_type": "code",
   "execution_count": 15,
   "metadata": {},
   "outputs": [
    {
     "name": "stdout",
     "output_type": "stream",
     "text": [
      "rewards:\n",
      "---------------------------\n",
      "-0.10| -0.10| -0.10|  1.00| \n",
      "---------------------------\n",
      "-0.10|  0.00| -0.10| -1.00| \n",
      "---------------------------\n",
      "-0.10| -0.10| -0.10| -0.10| \n"
     ]
    }
   ],
   "source": [
    "grid = negative_grid(step_cost=-0.1)\n",
    "print(\"rewards:\")\n",
    "print_values(grid.rewards, grid)"
   ]
  },
  {
   "cell_type": "markdown",
   "metadata": {},
   "source": [
    "#### initializer: Q"
   ]
  },
  {
   "cell_type": "code",
   "execution_count": 16,
   "metadata": {
    "collapsed": true
   },
   "outputs": [],
   "source": [
    "Q = {}\n",
    "states = grid.all_states()\n",
    "for s in states:\n",
    "    Q[s] = {}\n",
    "    for a in ALL_POSSIBLE_ACTIONS:\n",
    "        Q[s][a] = 0"
   ]
  },
  {
   "cell_type": "code",
   "execution_count": 17,
   "metadata": {
    "collapsed": true
   },
   "outputs": [],
   "source": [
    "# keep track of #Q[s] updated\n",
    "update_counts = {}\n",
    "update_counts_sa = {}\n",
    "for s in states:\n",
    "    update_counts_sa[s] = {}\n",
    "    for a in ALL_POSSIBLE_ACTIONS:\n",
    "        update_counts_sa[s][a] = 1.0"
   ]
  },
  {
   "cell_type": "markdown",
   "metadata": {},
   "source": [
    "#### Iteration (value iteration)"
   ]
  },
  {
   "cell_type": "code",
   "execution_count": 18,
   "metadata": {},
   "outputs": [
    {
     "name": "stdout",
     "output_type": "stream",
     "text": [
      "it: 0\n",
      "it: 2000\n",
      "it: 4000\n",
      "it: 6000\n",
      "it: 8000\n"
     ]
    }
   ],
   "source": [
    "# Value convergency:\n",
    "t = 1.0\n",
    "deltas = []\n",
    "for it in xrange(10000):\n",
    "    if it % 100 == 0:\n",
    "        t += 1e-2\n",
    "    if it % 2000 == 0:\n",
    "        print(\"it:\", it)\n",
    "\n",
    "    # instead of 'generating' an epsiode, PLAY an episode within this loop\n",
    "    s = (2, 0) # start state\n",
    "    grid.set_state(s)\n",
    "\n",
    "    a = max_dict(Q[s])[0]\n",
    "    a = random_action(a, eps=0.5/t) # epsilon-greedy\n",
    "    biggest_change = 0\n",
    "    while not grid.game_over():\n",
    "        # random action will not work\n",
    "        r = grid.move(a)\n",
    "        s2 = grid.current_state()\n",
    "\n",
    "        # adaptive learning rate\n",
    "        a2 = max_dict(Q[s2])[0]\n",
    "        a2 = random_action(a2, eps=0.5/t) # epsilon-greedy\n",
    "\n",
    "        # update Q(s,a) \n",
    "        alpha = ALPHA / update_counts_sa[s][a]\n",
    "        update_counts_sa[s][a] += 0.005\n",
    "        old_qsa = Q[s][a]\n",
    "        Q[s][a] = Q[s][a] + alpha*(r + GAMMA*Q[s2][a2] - Q[s][a])\n",
    "        biggest_change = max(biggest_change, np.abs(old_qsa - Q[s][a]))\n",
    "\n",
    "        update_counts[s] = update_counts.get(s,0) + 1\n",
    "\n",
    "        # update current state\n",
    "        s = s2\n",
    "        a = a2\n",
    "\n",
    "    deltas.append(biggest_change)"
   ]
  },
  {
   "cell_type": "code",
   "execution_count": 19,
   "metadata": {},
   "outputs": [
    {
     "data": {
      "image/png": "[encoded data removed]",
      "text/plain": [
       "<matplotlib.figure.Figure at 0x10ebac490>"
      ]
     },
     "metadata": {},
     "output_type": "display_data"
    }
   ],
   "source": [
    "plt.plot(deltas)\n",
    "plt.show()"
   ]
  },
  {
   "cell_type": "code",
   "execution_count": 20,
   "metadata": {
    "collapsed": true
   },
   "outputs": [],
   "source": [
    "# etermine the policy from Q*\n",
    "policy = {}\n",
    "V = {}\n",
    "for s in grid.actions.keys():\n",
    "    a, max_q = max_dict(Q[s])\n",
    "    policy[s] = a\n",
    "    V[s] = max_q"
   ]
  },
  {
   "cell_type": "markdown",
   "metadata": {},
   "source": [
    "#### result and optimal policy"
   ]
  },
  {
   "cell_type": "code",
   "execution_count": 21,
   "metadata": {},
   "outputs": [
    {
     "name": "stdout",
     "output_type": "stream",
     "text": [
      "update counts:\n",
      "---------------------------\n",
      " 0.18|  0.18|  0.18|  0.00| \n",
      "---------------------------\n",
      " 0.19|  0.00|  0.04|  0.00| \n",
      "---------------------------\n",
      " 0.19|  0.02|  0.02|  0.00| \n"
     ]
    }
   ],
   "source": [
    "print (\"update counts:\")\n",
    "total = np.sum(update_counts.values())\n",
    "for k, v in update_counts.iteritems():\n",
    "    update_counts[k] = float(v) / total\n",
    "print_values(update_counts, grid)"
   ]
  },
  {
   "cell_type": "code",
   "execution_count": 24,
   "metadata": {},
   "outputs": [
    {
     "name": "stdout",
     "output_type": "stream",
     "text": [
      "values:\n",
      "---------------------------\n",
      " 0.50|  0.72|  1.00|  0.00| \n",
      "---------------------------\n",
      " 0.29|  0.00|  0.73|  0.00| \n",
      "---------------------------\n",
      " 0.12|  0.16|  0.41|  0.15| \n",
      "optimal policy:\n",
      "---------------------------\n",
      "  R  |   R  |   R  |      | \n",
      "---------------------------\n",
      "  U  |      |   U  |      | \n",
      "---------------------------\n",
      "  U  |   R  |   U  |   L  | \n"
     ]
    }
   ],
   "source": [
    "print (\"values:\")\n",
    "print_values(V, grid)\n",
    "print (\"optimal policy:\")\n",
    "print_policy(policy, grid)"
   ]
  },
  {
   "cell_type": "code",
   "execution_count": null,
   "metadata": {
    "collapsed": true
   },
   "outputs": [],
   "source": []
  },
  {
   "cell_type": "markdown",
   "metadata": {},
   "source": [
    "## Case Two: Q-Learning"
   ]
  },
  {
   "cell_type": "markdown",
   "metadata": {},
   "source": [
    "#### rewards"
   ]
  },
  {
   "cell_type": "code",
   "execution_count": 6,
   "metadata": {},
   "outputs": [
    {
     "name": "stdout",
     "output_type": "stream",
     "text": [
      "rewards:\n",
      "---------------------------\n",
      "-0.10| -0.10| -0.10|  1.00| \n",
      "---------------------------\n",
      "-0.10|  0.00| -0.10| -1.00| \n",
      "---------------------------\n",
      "-0.10| -0.10| -0.10| -0.10| \n"
     ]
    }
   ],
   "source": [
    "grid = negative_grid(step_cost=-0.1)\n",
    "print(\"rewards:\")\n",
    "print_values(grid.rewards, grid)"
   ]
  },
  {
   "cell_type": "markdown",
   "metadata": {},
   "source": [
    "#### initializer: Q"
   ]
  },
  {
   "cell_type": "code",
   "execution_count": 8,
   "metadata": {
    "collapsed": true
   },
   "outputs": [],
   "source": [
    "Q = {}\n",
    "states = grid.all_states()\n",
    "for s in states:\n",
    "    Q[s] = {}\n",
    "    for a in ALL_POSSIBLE_ACTIONS:\n",
    "        Q[s][a] = 0"
   ]
  },
  {
   "cell_type": "code",
   "execution_count": 9,
   "metadata": {
    "collapsed": true
   },
   "outputs": [],
   "source": [
    "# keep track of #Q[s] updated\n",
    "update_counts = {}\n",
    "update_counts_sa = {}\n",
    "for s in states:\n",
    "    update_counts_sa[s] = {}\n",
    "    for a in ALL_POSSIBLE_ACTIONS:\n",
    "        update_counts_sa[s][a] = 1.0"
   ]
  },
  {
   "cell_type": "markdown",
   "metadata": {},
   "source": [
    "#### Iteration (value iteration)"
   ]
  },
  {
   "cell_type": "code",
   "execution_count": 10,
   "metadata": {},
   "outputs": [
    {
     "name": "stdout",
     "output_type": "stream",
     "text": [
      "it: 0\n",
      "it: 2000\n",
      "it: 4000\n",
      "it: 6000\n",
      "it: 8000\n"
     ]
    }
   ],
   "source": [
    "# Value convergency:\n",
    "t = 1.0\n",
    "deltas = []\n",
    "for it in xrange(10000):\n",
    "    if it % 100 == 0:\n",
    "        t += 1e-2\n",
    "    if it % 2000 == 0:\n",
    "        print(\"it:\", it)\n",
    "\n",
    "    # instead of 'generating' an epsiode, PLAY an episode within this loop\n",
    "    s = (2, 0) # start state\n",
    "    grid.set_state(s)\n",
    "\n",
    "    a, _ = max_dict(Q[s])\n",
    "    biggest_change = 0\n",
    "    while not grid.game_over():\n",
    "        a = random_action(a, eps=0.5/t) # epsilon-greedy\n",
    "        # random action also works, but slower since you can bump into walls\n",
    "        r = grid.move(a)\n",
    "        s2 = grid.current_state()\n",
    "\n",
    "        # adaptive learning rate\n",
    "        alpha = ALPHA / update_counts_sa[s][a]\n",
    "        update_counts_sa[s][a] += 0.005\n",
    "\n",
    "        # we will update Q(s,a) AS we experience the episode\n",
    "        old_qsa = Q[s][a]\n",
    "        # the difference between SARSA and Q-Learning is with Q-Learning\n",
    "        # we will use this max[a']{ Q(s',a')} in our update\n",
    "        # even if we do not end up taking this action in the next step\n",
    "        a2, max_q_s2a2 = max_dict(Q[s2])\n",
    "        Q[s][a] = Q[s][a] + alpha*(r + GAMMA*max_q_s2a2 - Q[s][a])\n",
    "        biggest_change = max(biggest_change, np.abs(old_qsa - Q[s][a]))\n",
    "\n",
    "        # we would like to know how often Q(s) has been updated too\n",
    "        update_counts[s] = update_counts.get(s,0) + 1\n",
    "\n",
    "        # next state becomes current state\n",
    "        s = s2\n",
    "     \n",
    "    deltas.append(biggest_change)"
   ]
  },
  {
   "cell_type": "code",
   "execution_count": 11,
   "metadata": {},
   "outputs": [
    {
     "data": {
      "image/png": "[encoded data removed]",
      "text/plain": [
       "<matplotlib.figure.Figure at 0x10eab79d0>"
      ]
     },
     "metadata": {},
     "output_type": "display_data"
    }
   ],
   "source": [
    "plt.plot(deltas)\n",
    "plt.show()"
   ]
  },
  {
   "cell_type": "code",
   "execution_count": 12,
   "metadata": {
    "collapsed": true
   },
   "outputs": [],
   "source": [
    "# determine the policy from Q*\n",
    "policy = {}\n",
    "V = {}\n",
    "for s in grid.actions.keys():\n",
    "    a, max_q = max_dict(Q[s])\n",
    "    policy[s] = a\n",
    "    V[s] = max_q"
   ]
  },
  {
   "cell_type": "markdown",
   "metadata": {},
   "source": [
    "#### result and optimal policy"
   ]
  },
  {
   "cell_type": "code",
   "execution_count": 13,
   "metadata": {},
   "outputs": [
    {
     "name": "stdout",
     "output_type": "stream",
     "text": [
      "update counts:\n",
      "---------------------------\n",
      " 0.27|  0.05|  0.04|  0.00| \n",
      "---------------------------\n",
      " 0.12|  0.00|  0.01|  0.00| \n",
      "---------------------------\n",
      " 0.28|  0.07|  0.05|  0.11| \n"
     ]
    }
   ],
   "source": [
    "print (\"update counts:\")\n",
    "total = np.sum(update_counts.values())\n",
    "for k, v in update_counts.iteritems():\n",
    "    update_counts[k] = float(v) / total\n",
    "print_values(update_counts, grid)"
   ]
  },
  {
   "cell_type": "code",
   "execution_count": 23,
   "metadata": {},
   "outputs": [
    {
     "name": "stdout",
     "output_type": "stream",
     "text": [
      "values:\n",
      "---------------------------\n",
      " 0.50|  0.72|  1.00|  0.00| \n",
      "---------------------------\n",
      " 0.29|  0.00|  0.73|  0.00| \n",
      "---------------------------\n",
      " 0.12|  0.16|  0.41|  0.15| \n",
      "optimal policy:\n",
      "---------------------------\n",
      "  R  |   R  |   R  |      | \n",
      "---------------------------\n",
      "  U  |      |   U  |      | \n",
      "---------------------------\n",
      "  U  |   R  |   U  |   L  | \n"
     ]
    }
   ],
   "source": [
    "print (\"values:\")\n",
    "print_values(V, grid)\n",
    "print (\"optimal policy:\")\n",
    "print_policy(policy, grid)"
   ]
  },
  {
   "cell_type": "code",
   "execution_count": null,
   "metadata": {
    "collapsed": true
   },
   "outputs": [],
   "source": []
  }
 ],
 "metadata": {
  "kernelspec": {
   "display_name": "Python 2",
   "language": "python",
   "name": "python2"
  },
  "language_info": {
   "codemirror_mode": {
    "name": "ipython",
    "version": 2
   },
   "file_extension": ".py",
   "mimetype": "text/x-python",
   "name": "python",
   "nbconvert_exporter": "python",
   "pygments_lexer": "ipython2",
   "version": "2.7.13"
  }
 },
 "nbformat": 4,
 "nbformat_minor": 2
}
